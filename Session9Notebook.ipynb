{
 "cells": [
  {
   "cell_type": "code",
   "execution_count": 4,
   "metadata": {},
   "outputs": [],
   "source": [
    "from session9 import *"
   ]
  },
  {
   "cell_type": "markdown",
   "metadata": {},
   "source": [
    "## Question 1 Fetching largest blood type, mean-current_location, oldest_person_age, and average age using named tuple"
   ]
  },
  {
   "cell_type": "code",
   "execution_count": 5,
   "metadata": {},
   "outputs": [],
   "source": [
    "summaryprofilenamedtup = profilestats__namedtuple()"
   ]
  },
  {
   "cell_type": "code",
   "execution_count": 11,
   "metadata": {},
   "outputs": [
    {
     "name": "stdout",
     "output_type": "stream",
     "text": [
      "Largest BloodType is :O-\n",
      "Mean Current Location: (Decimal('-0.7796882161'), Decimal('-1.1379904981'))\n",
      "Oldest Person Age: 115\n",
      "Average Person Age: 57.7552\n"
     ]
    }
   ],
   "source": [
    "print(f\"\"\"Largest BloodType is :{summaryprofilenamedtup.largestbloodtype}\\nMean Current Location: {summaryprofilenamedtup.meancurrentlocation}\\nOldest Person Age: {summaryprofilenamedtup.oldestpersonage}\\nAverage Person Age: {summaryprofilenamedtup.averageage}\"\"\")"
   ]
  },
  {
   "cell_type": "code",
   "execution_count": 13,
   "metadata": {},
   "outputs": [
    {
     "name": "stdout",
     "output_type": "stream",
     "text": [
      "Named Tuple With Summary Statistics of Profile\n"
     ]
    }
   ],
   "source": [
    "print(summaryprofilenamedtup.__doc__)"
   ]
  },
  {
   "cell_type": "markdown",
   "metadata": {},
   "source": [
    "## Question 2 Fetching largest blood type, mean-current_location, oldest_person_age, and average age using dictionary"
   ]
  },
  {
   "cell_type": "code",
   "execution_count": 14,
   "metadata": {},
   "outputs": [],
   "source": [
    "summaryprofiledict = profilestats__dict()"
   ]
  },
  {
   "cell_type": "code",
   "execution_count": 15,
   "metadata": {},
   "outputs": [
    {
     "name": "stdout",
     "output_type": "stream",
     "text": [
      "Largest BloodType is :O-\n",
      "Mean Current Location: (Decimal('-0.81437692235'), Decimal('-2.0212113275'))\n",
      "Oldest Person Age: 115\n",
      "Average Person Age: 57.5283\n"
     ]
    }
   ],
   "source": [
    "print(f\"\"\"Largest BloodType is :{summaryprofiledict[\"largestbloodtype\"]}\\nMean Current Location: {summaryprofiledict[\"meancurrentlocation\"]}\\nOldest Person Age: {summaryprofiledict[\"oldestpersonage\"]}\\nAverage Person Age: {summaryprofiledict[\"averageage\"]}\"\"\")"
   ]
  },
  {
   "cell_type": "markdown",
   "metadata": {},
   "source": [
    "## Prove Named Tuple is faster"
   ]
  },
  {
   "cell_type": "code",
   "execution_count": 20,
   "metadata": {},
   "outputs": [
    {
     "name": "stdout",
     "output_type": "stream",
     "text": [
      "Total Time Taken for Named Tuple:47.22924210000002\n",
      "Total Time Taken for Dictionary:47.266002800000024\n",
      "Named Tuple is faster than Dict by:0.03676070000000209sec\n"
     ]
    }
   ],
   "source": [
    "start = time.perf_counter()\n",
    "summaryprofilenamedtup = profilestats__namedtuple()\n",
    "end = time.perf_counter()\n",
    "start_dict = time.perf_counter()\n",
    "summaryprofiledict = profilestats__dict()\n",
    "end_dict = time.perf_counter()\n",
    "print(\"Total Time Taken for Named Tuple:\" + str(end-start))\n",
    "print(\"Total Time Taken for Dictionary:\" + str(end_dict-start_dict))\n",
    "print(\"Named Tuple is faster than Dict by:\" + str((end_dict-start_dict)-(end-start)) + \"sec\")"
   ]
  },
  {
   "cell_type": "markdown",
   "metadata": {},
   "source": [
    "## Stock market Index"
   ]
  },
  {
   "cell_type": "code",
   "execution_count": 28,
   "metadata": {},
   "outputs": [
    {
     "name": "stdout",
     "output_type": "stream",
     "text": [
      "chem100index Open Value: 1567.73\n",
      "chem100index High Value: 1612.22\n",
      "chem100index Close Value: 1576.3\n"
     ]
    },
    {
     "data": {
      "text/plain": [
       "session9.Chem100index"
      ]
     },
     "execution_count": 28,
     "metadata": {},
     "output_type": "execute_result"
    }
   ],
   "source": [
    "chem100index()"
   ]
  },
  {
   "cell_type": "markdown",
   "metadata": {},
   "source": [
    "## Sample Stock Market Records showing Company Name, Scrip, Market Cap, Date, Open, High , Close. You can also see that open high and close are very meaningful. I have ensured that the prices don't hit the 5% upper circuit  using \n",
    "\t\topen = round(random.uniform(100,3000),2)\n",
    "\t\thigh = open + (open * random.randint(1,5))/100\n",
    "\t\tclose = high + (high * random.randint(-5,0))/100\n",
    "## Also Weightage for individual stock is calculated as marketcap/totalmarketcap\n",
    "   \tChem100index.open = round(sum([x.open*(x.marketcap/totalmarketvalue) for x in chem100list]),2)\n",
    "\tChem100index.high = round(sum([x.high*(x.marketcap/totalmarketvalue) for x in chem100list]),2)\n",
    "\tChem100index.close = round(sum([x.close*(x.marketcap/totalmarketvalue) for x in chem100list]),2)"
   ]
  },
  {
   "cell_type": "code",
   "execution_count": 27,
   "metadata": {},
   "outputs": [
    {
     "data": {
      "text/plain": [
       "[Stock(compname='Young and Sons', marketcap=76.74, date1=<class 'datetime.date'>, scrip='You', open=1229.13, high=1278.2952, close=1214.38044),\n",
       " Stock(compname='Frey, Bradley and Turner', marketcap=10.93, date1=<class 'datetime.date'>, scrip='Fre', open=2190.92, high=2256.6476000000002, close=2166.3816960000004),\n",
       " Stock(compname='Harris, Barber and Shaw', marketcap=21.48, date1=<class 'datetime.date'>, scrip='Har', open=2121.32, high=2206.1728000000003, close=2184.111072),\n",
       " Stock(compname='Gray and Sons', marketcap=10.3, date1=<class 'datetime.date'>, scrip='Gra', open=624.21, high=649.1784, close=623.211264),\n",
       " Stock(compname='Shaw LLC', marketcap=15.8, date1=<class 'datetime.date'>, scrip='Sha', open=1351.34, high=1418.907, close=1390.52886),\n",
       " Stock(compname='Cervantes and Sons', marketcap=65.62, date1=<class 'datetime.date'>, scrip='Cer', open=1007.55, high=1037.7765, close=1048.154265),\n",
       " Stock(compname='Ellis Ltd', marketcap=45.46, date1=<class 'datetime.date'>, scrip='Ell', open=1537.89, high=1599.4056, close=1535.429376),\n",
       " Stock(compname='Salazar Group', marketcap=35.66, date1=<class 'datetime.date'>, scrip='Sal', open=665.83, high=692.4632, close=664.764672),\n",
       " Stock(compname='Green-Steele', marketcap=40.5, date1=<class 'datetime.date'>, scrip='Gre', open=324.35, high=327.5935, close=327.5935),\n",
       " Stock(compname='Vazquez, Kelly and Santiago', marketcap=24.15, date1=<class 'datetime.date'>, scrip='Vaz', open=1902.49, high=1959.5647, close=1959.5647),\n",
       " Stock(compname='Young PLC', marketcap=53.17, date1=<class 'datetime.date'>, scrip='You', open=2911.68, high=2969.9136, close=2999.612736),\n",
       " Stock(compname='Schneider Group', marketcap=38.3, date1=<class 'datetime.date'>, scrip='Sch', open=2267.31, high=2380.6755, close=2356.8687449999998),\n",
       " Stock(compname='Orr, Gaines and Castro', marketcap=84.81, date1=<class 'datetime.date'>, scrip='Orr', open=1697.89, high=1748.8267, close=1661.385365),\n",
       " Stock(compname='Jones PLC', marketcap=32.63, date1=<class 'datetime.date'>, scrip='Jon', open=1555.46, high=1602.1238, close=1538.0388480000001),\n",
       " Stock(compname='Santos-Henry', marketcap=27.51, date1=<class 'datetime.date'>, scrip='San', open=2708.63, high=2735.7163, close=2598.930485),\n",
       " Stock(compname='Murray PLC', marketcap=53.04, date1=<class 'datetime.date'>, scrip='Mur', open=528.83, high=555.2715000000001, close=538.6133550000001),\n",
       " Stock(compname='Jones LLC', marketcap=22.37, date1=<class 'datetime.date'>, scrip='Jon', open=2407.13, high=2527.4865, close=2476.93677),\n",
       " Stock(compname='Hill, Watson and Walters', marketcap=38.54, date1=<class 'datetime.date'>, scrip='Hil', open=2023.3, high=2083.999, close=1979.7990499999999),\n",
       " Stock(compname='Montes-Harris', marketcap=53.3, date1=<class 'datetime.date'>, scrip='Mon', open=959.96, high=1007.9580000000001, close=967.6396800000001),\n",
       " Stock(compname='Lyons, Foster and Odonnell', marketcap=77.46, date1=<class 'datetime.date'>, scrip='Lyo', open=2637.18, high=2716.2954, close=2634.806538),\n",
       " Stock(compname='Jones, Hall and Gallagher', marketcap=52.93, date1=<class 'datetime.date'>, scrip='Jon', open=1860.26, high=1916.0678, close=1896.907122),\n",
       " Stock(compname='Snyder Ltd', marketcap=65.81, date1=<class 'datetime.date'>, scrip='Sny', open=2576.89, high=2679.9656, close=2626.366288),\n",
       " Stock(compname='Brooks-Trujillo', marketcap=12.03, date1=<class 'datetime.date'>, scrip='Bro', open=1007.98, high=1018.0598, close=1028.240398),\n",
       " Stock(compname='White-Morgan', marketcap=73.98, date1=<class 'datetime.date'>, scrip='Whi', open=450.97, high=459.98940000000005, close=441.589824),\n",
       " Stock(compname='Rodgers, Mercer and Love', marketcap=91.12, date1=<class 'datetime.date'>, scrip='Rod', open=1242.18, high=1291.8672000000001, close=1266.029856),\n",
       " Stock(compname='Rodriguez Ltd', marketcap=60.93, date1=<class 'datetime.date'>, scrip='Rod', open=396.18, high=404.10360000000003, close=391.980492),\n",
       " Stock(compname='Smith Group', marketcap=58.14, date1=<class 'datetime.date'>, scrip='Smi', open=2197.28, high=2219.2528, close=2241.4453280000002),\n",
       " Stock(compname='Evans Ltd', marketcap=96.83, date1=<class 'datetime.date'>, scrip='Eva', open=2086.65, high=2149.2495, close=2149.2495),\n",
       " Stock(compname='Smith, Thompson and Johnson', marketcap=4.95, date1=<class 'datetime.date'>, scrip='Smi', open=1671.89, high=1705.3278, close=1671.221244),\n",
       " Stock(compname='Simmons, Contreras and Lee', marketcap=93.39, date1=<class 'datetime.date'>, scrip='Sim', open=1776.2, high=1829.486, close=1774.6014200000002),\n",
       " Stock(compname='Baker PLC', marketcap=40.36, date1=<class 'datetime.date'>, scrip='Bak', open=285.22, high=290.92440000000005, close=285.10591200000005),\n",
       " Stock(compname='Johnson-Smith', marketcap=62.25, date1=<class 'datetime.date'>, scrip='Joh', open=1096.98, high=1129.8894, close=1118.590506),\n",
       " Stock(compname='Ramirez-Grant', marketcap=40.81, date1=<class 'datetime.date'>, scrip='Ram', open=2366.63, high=2390.2963, close=2318.587411),\n",
       " Stock(compname='Torres, Black and Robinson', marketcap=85.4, date1=<class 'datetime.date'>, scrip='Tor', open=746.06, high=768.4418, close=776.126218),\n",
       " Stock(compname='Wilson, Mcdaniel and Anderson', marketcap=17.95, date1=<class 'datetime.date'>, scrip='Wil', open=2002.77, high=2042.8254, close=1981.540638),\n",
       " Stock(compname='Miller LLC', marketcap=95.75, date1=<class 'datetime.date'>, scrip='Mil', open=302.39, high=317.5095, close=304.80912),\n",
       " Stock(compname='Soto, Garcia and Romero', marketcap=88.32, date1=<class 'datetime.date'>, scrip='Sot', open=2890.72, high=3035.256, close=3004.90344),\n",
       " Stock(compname='Vega-Cameron', marketcap=60.4, date1=<class 'datetime.date'>, scrip='Veg', open=1145.84, high=1168.7567999999999, close=1145.381664),\n",
       " Stock(compname='Clayton and Sons', marketcap=58.84, date1=<class 'datetime.date'>, scrip='Cla', open=1844.94, high=1937.1870000000001, close=1937.1870000000001),\n",
       " Stock(compname='Shelton-Valenzuela', marketcap=90.62, date1=<class 'datetime.date'>, scrip='She', open=301.57, high=307.6014, close=307.6014),\n",
       " Stock(compname='Murray-Martin', marketcap=44.08, date1=<class 'datetime.date'>, scrip='Mur', open=2423.99, high=2472.4698, close=2398.295706),\n",
       " Stock(compname='Thompson-Johnson', marketcap=83.5, date1=<class 'datetime.date'>, scrip='Tho', open=1149.48, high=1195.4592, close=1207.413792),\n",
       " Stock(compname='Townsend-Reilly', marketcap=60.96, date1=<class 'datetime.date'>, scrip='Tow', open=1018.73, high=1059.4792, close=1038.289616),\n",
       " Stock(compname='Lang Ltd', marketcap=38.08, date1=<class 'datetime.date'>, scrip='Lan', open=1298.96, high=1350.9184, close=1310.390848),\n",
       " Stock(compname='Watson, Montgomery and Brown', marketcap=76.37, date1=<class 'datetime.date'>, scrip='Wat', open=2220.28, high=2242.4828, close=2152.783488),\n",
       " Stock(compname='Baldwin LLC', marketcap=5.95, date1=<class 'datetime.date'>, scrip='Bal', open=1666.78, high=1716.7834, close=1665.279898),\n",
       " Stock(compname='Kemp, Lewis and Webster', marketcap=98.62, date1=<class 'datetime.date'>, scrip='Kem', open=2626.47, high=2757.7934999999998, close=2647.4817599999997),\n",
       " Stock(compname='Salazar-Pruitt', marketcap=3.62, date1=<class 'datetime.date'>, scrip='Sal', open=2755.07, high=2892.8235, close=2863.895265),\n",
       " Stock(compname='Floyd, Austin and Hunter', marketcap=96.1, date1=<class 'datetime.date'>, scrip='Flo', open=1457.51, high=1501.2353, close=1456.198241),\n",
       " Stock(compname='Gonzalez LLC', marketcap=3.76, date1=<class 'datetime.date'>, scrip='Gon', open=2121.36, high=2185.0008000000003, close=2119.450776),\n",
       " Stock(compname='Curry, Clark and Smith', marketcap=12.18, date1=<class 'datetime.date'>, scrip='Cur', open=1188.66, high=1236.2064, close=1248.568464),\n",
       " Stock(compname='Noble, Reese and Valenzuela', marketcap=84.38, date1=<class 'datetime.date'>, scrip='Nob', open=2559.64, high=2687.622, close=2606.99334),\n",
       " Stock(compname='Adams, Rosario and Burgess', marketcap=4.19, date1=<class 'datetime.date'>, scrip='Ada', open=964.4, high=1012.62, close=1002.4938),\n",
       " Stock(compname='Ferguson, Joseph and Price', marketcap=73.21, date1=<class 'datetime.date'>, scrip='Fer', open=1824.25, high=1897.22, close=1859.2756),\n",
       " Stock(compname='Kelley-Patterson', marketcap=77.83, date1=<class 'datetime.date'>, scrip='Kel', open=2824.52, high=2937.5008, close=2878.750784),\n",
       " Stock(compname='Jones, Holland and White', marketcap=58.13, date1=<class 'datetime.date'>, scrip='Jon', open=2075.25, high=2158.26, close=2158.26),\n",
       " Stock(compname='Harmon, Blake and Preston', marketcap=5.09, date1=<class 'datetime.date'>, scrip='Har', open=177.33, high=179.10330000000002, close=171.93916800000002),\n",
       " Stock(compname='Baxter-Knox', marketcap=14.45, date1=<class 'datetime.date'>, scrip='Bax', open=2930.22, high=3018.1265999999996, close=3018.1265999999996),\n",
       " Stock(compname='Merritt, Meyers and Perez', marketcap=8.55, date1=<class 'datetime.date'>, scrip='Mer', open=1856.46, high=1949.2830000000001, close=1949.2830000000001),\n",
       " Stock(compname='Ellis-Calderon', marketcap=78.6, date1=<class 'datetime.date'>, scrip='Ell', open=1380.08, high=1393.8808, close=1338.125568),\n",
       " Stock(compname='Little, Hughes and Vaughan', marketcap=34.3, date1=<class 'datetime.date'>, scrip='Lit', open=1456.45, high=1471.0145, close=1426.884065),\n",
       " Stock(compname='Dennis, Mercado and Fry', marketcap=86.09, date1=<class 'datetime.date'>, scrip='Den', open=824.54, high=841.0308, close=824.210184),\n",
       " Stock(compname='Thomas PLC', marketcap=12.37, date1=<class 'datetime.date'>, scrip='Tho', open=1637.95, high=1703.468, close=1720.50268),\n",
       " Stock(compname='Bartlett Inc', marketcap=54.56, date1=<class 'datetime.date'>, scrip='Bar', open=1973.83, high=2033.0448999999999, close=1992.3840019999998),\n",
       " Stock(compname='Horton-Black', marketcap=68.43, date1=<class 'datetime.date'>, scrip='Hor', open=1036.06, high=1067.1417999999999, close=1045.7989639999998),\n",
       " Stock(compname='York-Gardner', marketcap=95.97, date1=<class 'datetime.date'>, scrip='Yor', open=101.12, high=106.176, close=100.8672),\n",
       " Stock(compname='Green-Williams', marketcap=26.23, date1=<class 'datetime.date'>, scrip='Gre', open=2787.24, high=2926.602, close=2955.86802),\n",
       " Stock(compname='Fields LLC', marketcap=97.72, date1=<class 'datetime.date'>, scrip='Fie', open=2164.49, high=2251.0696, close=2161.0268159999996),\n",
       " Stock(compname='Bowen-Miller', marketcap=79.82, date1=<class 'datetime.date'>, scrip='Bow', open=994.95, high=1014.849, close=964.1065500000001),\n",
       " Stock(compname='Patel LLC', marketcap=100.0, date1=<class 'datetime.date'>, scrip='Pat', open=558.21, high=586.1205, close=568.536885),\n",
       " Stock(compname='Johnson, Ford and Garcia', marketcap=75.55, date1=<class 'datetime.date'>, scrip='Joh', open=1170.38, high=1205.4914, close=1145.21683),\n",
       " Stock(compname='Jones-Hernandez', marketcap=27.86, date1=<class 'datetime.date'>, scrip='Jon', open=452.98, high=471.0992, close=471.0992),\n",
       " Stock(compname='Edwards-Mcdonald', marketcap=83.11, date1=<class 'datetime.date'>, scrip='Edw', open=415.86, high=424.1772, close=407.21011200000004),\n",
       " Stock(compname='Fields and Sons', marketcap=7.04, date1=<class 'datetime.date'>, scrip='Fie', open=585.9, high=615.1949999999999, close=602.8910999999999),\n",
       " Stock(compname='Phillips, Frost and Sampson', marketcap=63.12, date1=<class 'datetime.date'>, scrip='Phi', open=376.01, high=394.8105, close=379.01808),\n",
       " Stock(compname='Cole Group', marketcap=72.37, date1=<class 'datetime.date'>, scrip='Col', open=2823.02, high=2851.2502, close=2879.762702),\n",
       " Stock(compname='Morris, Mcdonald and Jennings', marketcap=4.65, date1=<class 'datetime.date'>, scrip='Mor', open=322.3, high=328.74600000000004, close=315.59616000000005),\n",
       " Stock(compname='Rhodes, Rogers and Howard', marketcap=89.98, date1=<class 'datetime.date'>, scrip='Rho', open=2457.13, high=2579.9865, close=2476.78704),\n",
       " Stock(compname='Thompson Group', marketcap=3.06, date1=<class 'datetime.date'>, scrip='Tho', open=226.26, high=235.3104, close=235.3104),\n",
       " Stock(compname='Mcintyre-Tucker', marketcap=54.87, date1=<class 'datetime.date'>, scrip='Mci', open=2696.38, high=2831.199, close=2717.95104),\n",
       " Stock(compname='Paul LLC', marketcap=73.83, date1=<class 'datetime.date'>, scrip='Pau', open=1977.74, high=2037.0722, close=1996.330756),\n",
       " Stock(compname='Reed LLC', marketcap=94.0, date1=<class 'datetime.date'>, scrip='Ree', open=577.94, high=595.2782000000001, close=583.372636),\n",
       " Stock(compname='Ward PLC', marketcap=88.96, date1=<class 'datetime.date'>, scrip='War', open=836.57, high=878.3985, close=860.8305300000001),\n",
       " Stock(compname='Santos Ltd', marketcap=84.66, date1=<class 'datetime.date'>, scrip='San', open=2791.54, high=2819.4554, close=2819.4554),\n",
       " Stock(compname='Baker and Sons', marketcap=57.79, date1=<class 'datetime.date'>, scrip='Bak', open=2494.42, high=2594.1968, close=2620.1387680000003),\n",
       " Stock(compname='Johnson, Poole and Myers', marketcap=50.85, date1=<class 'datetime.date'>, scrip='Joh', open=2002.9, high=2022.929, close=2043.15829),\n",
       " Stock(compname='Smith-Gray', marketcap=94.48, date1=<class 'datetime.date'>, scrip='Smi', open=1055.29, high=1097.5016, close=1064.576552),\n",
       " Stock(compname='Edwards-Young', marketcap=64.16, date1=<class 'datetime.date'>, scrip='Edw', open=1611.69, high=1627.8069, close=1611.528831),\n",
       " Stock(compname='Johnson Group', marketcap=55.1, date1=<class 'datetime.date'>, scrip='Joh', open=685.69, high=719.9745, close=712.774755),\n",
       " Stock(compname='Tanner, Holmes and Velazquez', marketcap=12.28, date1=<class 'datetime.date'>, scrip='Tan', open=2834.38, high=2919.4114, close=2831.829058),\n",
       " Stock(compname='Thomas-Sanchez', marketcap=39.54, date1=<class 'datetime.date'>, scrip='Tho', open=973.75, high=993.225, close=993.225),\n",
       " Stock(compname='Arellano Inc', marketcap=40.39, date1=<class 'datetime.date'>, scrip='Are', open=213.29, high=221.8216, close=212.948736),\n",
       " Stock(compname='Barron PLC', marketcap=23.13, date1=<class 'datetime.date'>, scrip='Bar', open=2004.18, high=2024.2218, close=2024.2218),\n",
       " Stock(compname='Rodriguez-Osborn', marketcap=85.17, date1=<class 'datetime.date'>, scrip='Rod', open=220.79, high=229.6216, close=218.14052),\n",
       " Stock(compname='Roberts-Roberts', marketcap=11.22, date1=<class 'datetime.date'>, scrip='Rob', open=2665.05, high=2745.0015000000003, close=2690.1014700000005),\n",
       " Stock(compname='Johnson Ltd', marketcap=19.34, date1=<class 'datetime.date'>, scrip='Joh', open=2408.69, high=2505.0376, close=2454.9368480000003),\n",
       " Stock(compname='Lambert LLC', marketcap=28.94, date1=<class 'datetime.date'>, scrip='Lam', open=1146.26, high=1157.7226, close=1146.145374),\n",
       " Stock(compname='Parker-Hammond', marketcap=48.92, date1=<class 'datetime.date'>, scrip='Par', open=1983.83, high=2083.0215, close=2062.191285),\n",
       " Stock(compname='Romero-Smith', marketcap=20.68, date1=<class 'datetime.date'>, scrip='Rom', open=1643.74, high=1725.9270000000001, close=1725.9270000000001),\n",
       " Stock(compname='Elliott-Holland', marketcap=6.42, date1=<class 'datetime.date'>, scrip='Ell', open=2636.74, high=2742.2095999999997, close=2687.3654079999997)]"
      ]
     },
     "execution_count": 27,
     "metadata": {},
     "output_type": "execute_result"
    }
   ],
   "source": [
    "chem100niftydaydata()"
   ]
  }
 ],
 "metadata": {
  "kernelspec": {
   "display_name": "Python 3",
   "language": "python",
   "name": "python3"
  },
  "language_info": {
   "codemirror_mode": {
    "name": "ipython",
    "version": 3
   },
   "file_extension": ".py",
   "mimetype": "text/x-python",
   "name": "python",
   "nbconvert_exporter": "python",
   "pygments_lexer": "ipython3",
   "version": "3.6.5"
  }
 },
 "nbformat": 4,
 "nbformat_minor": 2
}
